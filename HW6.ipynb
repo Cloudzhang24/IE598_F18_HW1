{
 "cells": [
  {
   "cell_type": "code",
   "execution_count": 5,
   "metadata": {},
   "outputs": [],
   "source": [
    "#import all packages used in this program\n",
    "import numpy as np\n",
    "import pandas as pd\n",
    "from sklearn import datasets \n",
    "from sklearn.model_selection import train_test_split\n",
    "from sklearn.preprocessing import StandardScaler\n",
    "from sklearn.tree import DecisionTreeClassifier \n",
    "from sklearn.metrics import accuracy_score\n",
    "from matplotlib.colors import ListedColormap \n",
    "import matplotlib.pyplot as plt\n",
    "from sklearn.tree import export_graphviz\n",
    "from sklearn.neighbors import KNeighborsClassifier\n",
    "from sklearn import metrics\n",
    "from sklearn.model_selection import cross_val_score\n",
    "from sklearn import preprocessing"
   ]
  },
  {
   "cell_type": "code",
   "execution_count": 6,
   "metadata": {},
   "outputs": [
    {
     "name": "stdout",
     "output_type": "stream",
     "text": [
      "Random State: 1, in_sample: 1.000, out_sample: 1.000\n",
      "Random State: 2, in_sample: 1.000, out_sample: 0.933\n",
      "Random State: 3, in_sample: 1.000, out_sample: 1.000\n",
      "Random State: 4, in_sample: 1.000, out_sample: 0.933\n",
      "Random State: 5, in_sample: 1.000, out_sample: 0.800\n",
      "Random State: 6, in_sample: 1.000, out_sample: 1.000\n",
      "Random State: 7, in_sample: 1.000, out_sample: 0.867\n",
      "Random State: 8, in_sample: 1.000, out_sample: 0.867\n",
      "Random State: 9, in_sample: 1.000, out_sample: 1.000\n",
      "Random State: 10, in_sample: 1.000, out_sample: 1.000\n"
     ]
    }
   ],
   "source": [
    "iris = datasets.load_iris()\n",
    "X_iris, y_iris = iris.data, iris.target\n",
    "X, y = X_iris, y_iris\n",
    "randomstate = np.arange(1, 11, 1)\n",
    "in_sample = []\n",
    "out_sample = []\n",
    "\n",
    "for k in randomstate:\n",
    "    X_train, X_test, y_train, y_test = train_test_split(X, y,test_size=0.1, random_state=k)\n",
    "\n",
    "    scaler = preprocessing.StandardScaler().fit(X_train)\n",
    "    dt = DecisionTreeClassifier(max_depth = 6, criterion = 'gini', random_state = 1)\n",
    "    dt.fit(X_train, y_train)\n",
    "    y_pred_out = dt.predict(X_test)\n",
    "    y_pred_in = dt.predict(X_train)\n",
    "    out_sample_score = accuracy_score(y_test, y_pred_out)\n",
    "    in_sample_score = accuracy_score(y_train, y_pred_in)\n",
    "    in_sample.append(in_sample_score)\n",
    "    out_sample.append(out_sample_score)\n",
    "    print('Random State: %d, in_sample: %.3f, out_sample: %.3f'%(k, in_sample_score,out_sample_score))"
   ]
  },
  {
   "cell_type": "code",
   "execution_count": 23,
   "metadata": {},
   "outputs": [
    {
     "name": "stdout",
     "output_type": "stream",
     "text": [
      "Accuracy score:\n",
      "[0.9349999999999999, 0.9516666666666665, 0.9683333333333334, 0.9466666666666667, 0.9466666666666667, 0.9483333333333333, 0.9166666666666667, 0.9416666666666668, 0.925, 0.9400000000000001]\n",
      "Standard Deviation of Accuracy:\n",
      "0.013617798810543643\n",
      "CV Score:\n",
      "[0.9333333333333333, 1.0, 0.8, 1.0, 0.9333333333333333, 0.8666666666666667, 0.9333333333333333, 0.9333333333333333, 0.9333333333333333, 1.0]\n",
      "Standard Deviation of CV:\n",
      "0.059628479399994376\n"
     ]
    }
   ],
   "source": [
    "acc_r=[]\n",
    "score=[]\n",
    "for rr in range(1,11):\n",
    "    X_train, X_test, y_train, y_test = train_test_split(\n",
    "            X, y, test_size=0.1, random_state=rr, stratify=y)\n",
    "    tree_cross = DecisionTreeClassifier(criterion='gini', \n",
    "                              max_depth=4, \n",
    "                              random_state=1)\n",
    "    scores = cross_val_score(estimator=tree_cross, X=X_train, y=y_train, cv=10, n_jobs=1)\n",
    "    acc_r.append(np.mean(scores))\n",
    "    tree_cross.fit(X_train, y_train)\n",
    "    y_pred=tree_cross.predict(X_test)\n",
    "    score.append(accuracy_score(y_test, y_pred))\n",
    "\n",
    "print(\"Accuracy score:\")\n",
    "print(acc_r)\n",
    "print(\"Standard Deviation of Accuracy:\")\n",
    "print(np.std(acc_r))\n",
    "print(\"CV Score:\")\n",
    "print(score)\n",
    "print(\"Standard Deviation of CV:\")\n"
   ]
  },
  {
   "cell_type": "code",
   "execution_count": 24,
   "metadata": {},
   "outputs": [
    {
     "name": "stdout",
     "output_type": "stream",
     "text": [
      "My name is Xianhao Zhang\n",
      "My NetID is: xzhan137\n",
      "I hereby certify that I have read the University policy on Academic Integrity and that I am not in violation.\n"
     ]
    }
   ],
   "source": [
    "print(\"My name is Xianhao Zhang\")\n",
    "print(\"My NetID is: xzhan137\")\n",
    "print(\"I hereby certify that I have read the University policy on Academic Integrity and that I am not in violation.\")"
   ]
  },
  {
   "cell_type": "code",
   "execution_count": null,
   "metadata": {},
   "outputs": [],
   "source": []
  }
 ],
 "metadata": {
  "kernelspec": {
   "display_name": "Python 3",
   "language": "python",
   "name": "python3"
  },
  "language_info": {
   "codemirror_mode": {
    "name": "ipython",
    "version": 3
   },
   "file_extension": ".py",
   "mimetype": "text/x-python",
   "name": "python",
   "nbconvert_exporter": "python",
   "pygments_lexer": "ipython3",
   "version": "3.6.5"
  }
 },
 "nbformat": 4,
 "nbformat_minor": 2
}
